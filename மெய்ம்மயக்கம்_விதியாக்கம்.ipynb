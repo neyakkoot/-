{
  "nbformat": 4,
  "nbformat_minor": 0,
  "metadata": {
    "colab": {
      "provenance": [],
      "authorship_tag": "ABX9TyPh4FkRJw+OtYX1vHWpkR1D",
      "include_colab_link": true
    },
    "kernelspec": {
      "name": "python3",
      "display_name": "Python 3"
    },
    "language_info": {
      "name": "python"
    }
  },
  "cells": [
    {
      "cell_type": "markdown",
      "metadata": {
        "id": "view-in-github",
        "colab_type": "text"
      },
      "source": [
        "<a href=\"https://colab.research.google.com/github/neyakkoot/basic_python_learning/blob/main/%E0%AE%AE%E0%AF%86%E0%AE%AF%E0%AF%8D%E0%AE%AE%E0%AF%8D%E0%AE%AE%E0%AE%AF%E0%AE%95%E0%AF%8D%E0%AE%95%E0%AE%AE%E0%AF%8D_%E0%AE%B5%E0%AE%BF%E0%AE%A4%E0%AE%BF%E0%AE%AF%E0%AE%BE%E0%AE%95%E0%AF%8D%E0%AE%95%E0%AE%AE%E0%AF%8D.ipynb\" target=\"_parent\"><img src=\"https://colab.research.google.com/assets/colab-badge.svg\" alt=\"Open In Colab\"/></a>"
      ]
    },
    {
      "cell_type": "markdown",
      "source": [
        "16.06.2023 - தமிழ் ஆய்வுகளில் பைத்தான்"
      ],
      "metadata": {
        "id": "UPRHEZ2GJ_X-"
      }
    },
    {
      "cell_type": "code",
      "source": [
        "name=input(\"Enter name\")\n",
        "print('வணக்கம்', name)\n",
        "print(\"your user name is\", name)"
      ],
      "metadata": {
        "colab": {
          "base_uri": "https://localhost:8080/"
        },
        "id": "FVyYMuuCUul4",
        "outputId": "198e5406-cc0d-4925-f526-f2e5034403a2"
      },
      "execution_count": 8,
      "outputs": [
        {
          "output_type": "stream",
          "name": "stdout",
          "text": [
            "Enter nameசத்தியராஜ்\n",
            "வணக்கம் சத்தியராஜ்\n",
            "your user name is சத்தியராஜ்\n"
          ]
        }
      ]
    },
    {
      "cell_type": "code",
      "source": [
        "name=input(\"Enter name\")\n",
        "number=input(\"Enter number\")\n",
        "print('வணக்கம்', number, name)\n",
        "print(\"your user name is\", number, name)"
      ],
      "metadata": {
        "colab": {
          "base_uri": "https://localhost:8080/"
        },
        "id": "YVMpEa7xU2I6",
        "outputId": "9efeafd4-7a89-4f72-a8f2-18dfd08c9bc4"
      },
      "execution_count": 9,
      "outputs": [
        {
          "output_type": "stream",
          "name": "stdout",
          "text": [
            "Enter nameசத்தியராஜ்\n",
            "Enter number100\n",
            "வணக்கம் 100 சத்தியராஜ்\n",
            "your user name is 100 சத்தியராஜ்\n"
          ]
        }
      ]
    },
    {
      "cell_type": "code",
      "source": [
        "name=input(\"Enter name\")\n",
        "amount=input(\"Enter amount\")\n",
        "print('வணக்கம்', name, 'தங்களுக்கு நான் தரவேண்டிய தொகை', amount)\n",
        "print(\"உங்களது பயனர் பெயர்\", name, 'தங்களுக்குச் செலுத்தப்பெற்ற தொகை',amount)"
      ],
      "metadata": {
        "colab": {
          "base_uri": "https://localhost:8080/"
        },
        "id": "6--yP3sKVXQB",
        "outputId": "ae554a68-69d0-4d31-e1a6-0c7507dc9872"
      },
      "execution_count": 10,
      "outputs": [
        {
          "output_type": "stream",
          "name": "stdout",
          "text": [
            "Enter nameசத்தியராஜ்\n",
            "Enter amount5000\n",
            "வணக்கம் சத்தியராஜ் தங்களுக்கு நான் தரவேண்டிய தொகை 5000\n",
            "உங்களது பயனர் பெயர் சத்தியராஜ் தங்களுக்குச் செலுத்தப்பெற்ற தொகை 5000\n"
          ]
        }
      ]
    },
    {
      "cell_type": "code",
      "source": [
        "தொல்காப்பியம் = \"எழுத்ததிகாரம்\"\n",
        "print(len(தொல்காப்பியம்))"
      ],
      "metadata": {
        "colab": {
          "base_uri": "https://localhost:8080/"
        },
        "id": "-MBnsMvjWp4t",
        "outputId": "0adedc34-b6c7-4ade-efd3-5717f9d8fd43"
      },
      "execution_count": 14,
      "outputs": [
        {
          "output_type": "stream",
          "name": "stdout",
          "text": [
            "13\n"
          ]
        }
      ]
    },
    {
      "cell_type": "code",
      "source": [
        "தொல்காப்பியம் = \"எழுத்ததிகாரம்\", \"சொல்லதிகாரம்\", \"பொருளதிகாரம்\"\n",
        "print(len(தொல்காப்பியம்))"
      ],
      "metadata": {
        "colab": {
          "base_uri": "https://localhost:8080/"
        },
        "id": "0bJYQznlXJlo",
        "outputId": "7b3adf9e-1bd5-4ff9-be28-3322868b2c4e"
      },
      "execution_count": 16,
      "outputs": [
        {
          "output_type": "stream",
          "name": "stdout",
          "text": [
            "3\n"
          ]
        }
      ]
    },
    {
      "cell_type": "code",
      "source": [
        "\n",
        "விதி1 = \"தமிழ் எழுத்துக்கள் எத்தனை வகைப்படும் என்று தொல்காப்பியர் குறிப்பிட்டுள்ளார்?\"\n",
        "print(விதி1)\n",
        "விடை = \"இரண்டு\"\n",
        "உள்ளீடு = input(\"விடையை எழுத்தில் மட்டும் தருக: \")\n",
        "if உள்ளீடு in விடை == \"இரண்டு\":\n",
        "  print (True)\n",
        "else:\n",
        "  print (False)\n",
        "\n",
        "print (\"சரியான விடை = 1.முதன்மை எழுத்து, 2.சார்பெழுத்து\")\n",
        "print (\"அதற்குரிய தொல்காப்பிய நூற்பா இது -> எழுத்தெனப் படுப; அகரமுதல னகர இறுவாய்; முப்பஃ தென்ப; சார்ந்து வரல்மரபின் மூன்றலங் கடையே\")"
      ],
      "metadata": {
        "colab": {
          "base_uri": "https://localhost:8080/"
        },
        "id": "zM63LoHFJcaG",
        "outputId": "da50cae2-e4c3-4950-faa0-8286a7db90ef"
      },
      "execution_count": 7,
      "outputs": [
        {
          "output_type": "stream",
          "name": "stdout",
          "text": [
            "தமிழ் எழுத்துக்கள் எத்தனை வகைப்படும் என்று தொல்காப்பியர் குறிப்பிட்டுள்ளார்?\n",
            "விடையை எழுத்தில் மட்டும் தருக: இரண்டு\n",
            "True\n",
            "சரியான விடை = 1.முதன்மை எழுத்து, 2.சார்பெழுத்து\n",
            "அதற்குரிய தொல்காப்பிய நூற்பா இது -> எழுத்தெனப் படுப; அகரமுதல னகர இறுவாய்; முப்பஃ தென்ப; சார்ந்து வரல்மரபின் மூன்றலங் கடையே\n"
          ]
        }
      ]
    },
    {
      "cell_type": "markdown",
      "source": [
        "மெய்ம்மயக்கம் விதி - 1\n",
        "\n",
        "\n",
        "1) ட் ற் ல் ள் + க ச ப\n",
        "\n",
        "    1.1) ட் + க ச ப\n",
        "\n",
        "    1.2) ற் + க ச ப\n",
        "\n",
        "    1.3) ல் + க ச ப\n",
        "\n",
        "    1.4) ள் + க ச ப\n",
        "\n",
        "2) ஒரு சொல்லில் ட், ற், ல், ள் ஆகிய எழுத்துக்களுக்குப் பின்பு ஆகிய க, ச, ப ஆகிய எழுத்துக்கள் மயங்கி வரும். எ-டு. கேட்க, கற்க, செல்க, கொள்க."
      ],
      "metadata": {
        "id": "aVr-JFjjAwp2"
      }
    },
    {
      "cell_type": "code",
      "source": [
        "pip install open-tamil"
      ],
      "metadata": {
        "colab": {
          "base_uri": "https://localhost:8080/"
        },
        "id": "ZXVTFHn7yxEj",
        "outputId": "d5a785e9-fad0-4756-dc66-d8ba791c57d0"
      },
      "execution_count": 1,
      "outputs": [
        {
          "output_type": "stream",
          "name": "stdout",
          "text": [
            "Looking in indexes: https://pypi.org/simple, https://us-python.pkg.dev/colab-wheels/public/simple/\n",
            "Collecting open-tamil\n",
            "  Downloading Open-Tamil-1.1.tar.gz (2.6 MB)\n",
            "\u001b[2K     \u001b[90m━━━━━━━━━━━━━━━━━━━━━━━━━━━━━━━━━━━━━━━━\u001b[0m \u001b[32m2.6/2.6 MB\u001b[0m \u001b[31m29.6 MB/s\u001b[0m eta \u001b[36m0:00:00\u001b[0m\n",
            "\u001b[?25h  Preparing metadata (setup.py) ... \u001b[?25l\u001b[?25hdone\n",
            "Building wheels for collected packages: open-tamil\n",
            "  Building wheel for open-tamil (setup.py) ... \u001b[?25l\u001b[?25hdone\n",
            "  Created wheel for open-tamil: filename=Open_Tamil-1.1-py3-none-any.whl size=2388370 sha256=b097992ef6757e1812dc6375d9aef9ed25aa2000838b5f0530122396fab661c8\n",
            "  Stored in directory: /root/.cache/pip/wheels/d3/48/47/d7829e657a9d52e32a566bc6d8a4be9235d0c52d2539f10ead\n",
            "Successfully built open-tamil\n",
            "Installing collected packages: open-tamil\n",
            "Successfully installed open-tamil-1.1\n"
          ]
        }
      ]
    },
    {
      "cell_type": "code",
      "source": [
        "\n",
        "import tamil\n",
        "\n",
        "word=input(\"Enter the word to check: \")\n",
        "letters=tamil.utf8.get_letters(word)\n",
        "if \"ட்\" in letters and letters.index(\"ட்\")!=len(letters)-1:\n",
        "    ind=letters.index(\"ட்\")\n",
        "    root_words=tamil.utf8.splitMeiUyir(letters[ind+1])\n",
        "    if type(root_words)==tuple:\n",
        "        root_last=root_words[0]\n",
        "    else:\n",
        "        root_last=root_words\n",
        "    if root_last==\"க்\" or  root_last==\"ச்\" or root_last==\"ப்\":\n",
        "        print(True)\n",
        "    else:\n",
        "        print(False)"
      ],
      "metadata": {
        "colab": {
          "base_uri": "https://localhost:8080/"
        },
        "id": "prQI08Z1D_UB",
        "outputId": "3e194fe0-b445-481c-b225-c590b9a3e699"
      },
      "execution_count": 10,
      "outputs": [
        {
          "output_type": "stream",
          "name": "stdout",
          "text": [
            "Enter the word to check: கட்க்க\n",
            "True\n"
          ]
        }
      ]
    },
    {
      "cell_type": "code",
      "source": [
        "import tamil\n",
        "\n",
        "சொல்=input(\"ஆய்வுசெய்ய வேண்டி சொல்லை உள்ளிடவும்: \")\n",
        "எழுத்துக்கள்=tamil.utf8.get_letters(சொல்)\n",
        "if \"ட்\" in எழுத்துக்கள் and எழுத்துக்கள்.index(\"ட்\")!=len(எழுத்துக்கள்)-1:\n",
        "    பட்டியல்=எழுத்துக்கள்.index(\"ட்\")\n",
        "    முழுச்சொல்=tamil.utf8.splitMeiUyir(எழுத்துக்கள்[பட்டியல்+1])\n",
        "    if type(முழுச்சொல்)==tuple:\n",
        "        சொல்லிறுதி=முழுச்சொல்[0]\n",
        "    else:\n",
        "        சொல்லிறுதி=முழுச்சொல்\n",
        "    if சொல்லிறுதி==\"க்\" or  சொல்லிறுதி==\"ச்\" or சொல்லிறுதி==\"ப்\":\n",
        "        print(True)\n",
        "    else:\n",
        "        print(False)"
      ],
      "metadata": {
        "colab": {
          "base_uri": "https://localhost:8080/"
        },
        "id": "XsaSAYF4YJPO",
        "outputId": "5a674e9a-85d9-4beb-d9c3-22fa042d105d"
      },
      "execution_count": 9,
      "outputs": [
        {
          "output_type": "stream",
          "name": "stdout",
          "text": [
            "ஆய்வுசெய்ய வேண்டி சொல்லை உள்ளிடவும்: கட்க\n",
            "True\n"
          ]
        }
      ]
    },
    {
      "cell_type": "markdown",
      "source": [
        "\n",
        "குறிச்சொல் - len > length\n",
        "\n",
        "0  1   2\n",
        "\n",
        "க  ட்  க\n",
        "\n",
        "-3 -2 -1"
      ],
      "metadata": {
        "id": "JwCmPA0i3AHi"
      }
    },
    {
      "cell_type": "code",
      "execution_count": 5,
      "metadata": {
        "colab": {
          "base_uri": "https://localhost:8080/"
        },
        "id": "LVW5Bzw2AoXc",
        "outputId": "50c237a4-c8d4-40ab-ac40-d6f76a82b257"
      },
      "outputs": [
        {
          "output_type": "stream",
          "name": "stdout",
          "text": [
            "Enter the word to check: கற்க\n",
            "True\n"
          ]
        }
      ],
      "source": [
        "\n",
        "import tamil\n",
        "\n",
        "word=input(\"Enter the word to check: \")\n",
        "letters=tamil.utf8.get_letters(word)\n",
        "if \"ட்\" in letters and letters.index(\"ட்\")!=len(letters)-1:\n",
        "    ind=letters.index(\"ட்\")\n",
        "    root_words=tamil.utf8.splitMeiUyir(letters[ind+1])\n",
        "    if type(root_words)==tuple:\n",
        "        root_last=root_words[0]\n",
        "    else:\n",
        "        root_last=root_words\n",
        "    if root_last==\"க்\" or  root_last==\"ச்\" or root_last==\"ப்\":\n",
        "        print(True)\n",
        "    else:\n",
        "        print(False)\n",
        "elif \"ற்\" in letters and letters.index(\"ற்\")!=len(letters)-1:\n",
        "    ind=letters.index(\"ற்\")\n",
        "    root_words=tamil.utf8.splitMeiUyir(letters[ind+1])\n",
        "    if type(root_words)==tuple:\n",
        "        root_last=root_words[0]\n",
        "    else:\n",
        "        root_last=root_words\n",
        "    if root_last==\"க்\" or  root_last==\"ச்\" or root_last==\"ப்\":\n",
        "        print(True)\n",
        "    else:\n",
        "        print(False)\n",
        "elif \"ல்\" in letters and letters.index(\"ல்\")!=len(letters)-1:\n",
        "    ind=letters.index(\"ல்\")\n",
        "    root_words=tamil.utf8.splitMeiUyir(letters[ind+1])\n",
        "    if type(root_words)==tuple:\n",
        "        root_last=root_words[0]\n",
        "    else:\n",
        "        root_last=root_words\n",
        "    if root_last==\"க்\" or  root_last==\"ச்\" or root_last==\"ப்\":\n",
        "        print(True)\n",
        "    else:\n",
        "        print(False)\n",
        "elif \"ள்\" in letters and letters.index(\"ள்\")!=len(letters)-1:\n",
        "    ind=letters.index(\"ள்\")\n",
        "    root_words=tamil.utf8.splitMeiUyir(letters[ind+1])\n",
        "    if type(root_words)==tuple:\n",
        "        root_last=root_words[0]\n",
        "    else:\n",
        "        root_last=root_words\n",
        "    if root_last==\"க்\" or  root_last==\"ச்\" or root_last==\"ப்\":\n",
        "        print(True)\n",
        "    else:\n",
        "        print(False)\n",
        "else:\n",
        "    print(False)"
      ]
    }
  ]
}