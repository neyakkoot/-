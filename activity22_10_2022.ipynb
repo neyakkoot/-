{
  "nbformat": 4,
  "nbformat_minor": 0,
  "metadata": {
    "colab": {
      "provenance": []
    },
    "kernelspec": {
      "name": "python3",
      "display_name": "Python 3"
    },
    "language_info": {
      "name": "python"
    }
  },
  "cells": [
    {
      "cell_type": "code",
      "execution_count": null,
      "metadata": {
        "colab": {
          "base_uri": "https://localhost:8080/"
        },
        "id": "j80-YA4Bl_Fm",
        "outputId": "fd9de805-85cd-4921-842b-1bbf393b0492"
      },
      "outputs": [
        {
          "output_type": "stream",
          "name": "stdout",
          "text": [
            "Enter nameSathiyaraj\n",
            "வணக்கம் Sathiyaraj\n",
            "your user name is Sathiyaraj\n"
          ]
        }
      ],
      "source": [
        "name=input(\"Enter name\")\n",
        "print('வணக்கம்', name)\n",
        "print(\"your user name is\", name)"
      ]
    },
    {
      "cell_type": "code",
      "source": [
        "name=input(\"Enter name\")\n",
        "number=input(\"Enter number\")\n",
        "print('வணக்கம்', number, name)\n",
        "print(\"your user name is\", number, name)"
      ],
      "metadata": {
        "colab": {
          "base_uri": "https://localhost:8080/"
        },
        "id": "knQq5vGWqyqc",
        "outputId": "48221706-0c91-4fe5-9962-f045331f174b"
      },
      "execution_count": null,
      "outputs": [
        {
          "output_type": "stream",
          "name": "stdout",
          "text": [
            "Enter nameSathiyaraj\n",
            "Enter nunmber100\n",
            "வணக்கம் 100 Sathiyaraj\n",
            "your user name is 100 Sathiyaraj\n"
          ]
        }
      ]
    },
    {
      "cell_type": "code",
      "source": [
        "name=input(\"Enter name\")\n",
        "amount=input(\"Enter amount\")\n",
        "print('வணக்கம்', name, 'தங்களுக்கு நான் தரவேண்டிய தொகை', amount)\n",
        "print(\"உங்களது பயனர் பெயர்\", name, 'தங்களுக்குச் செலுத்தப்பெற்ற தொகை',amount)"
      ],
      "metadata": {
        "colab": {
          "base_uri": "https://localhost:8080/"
        },
        "id": "_NCAsOigsCcR",
        "outputId": "d430f62e-556a-409d-9936-19a142411f50"
      },
      "execution_count": null,
      "outputs": [
        {
          "output_type": "stream",
          "name": "stdout",
          "text": [
            "Enter nameசத்தியராஜ்\n",
            "Enter amount2000\n",
            "வணக்கம் சத்தியராஜ் தங்களுக்கு நான் தரவேண்டிய தொகை 2000\n",
            "உங்களது பயனர் பெயர் சத்தியராஜ் தங்களுக்குச் செலுத்தப்பெற்ற தொகை 2000\n"
          ]
        }
      ]
    }
  ]
}