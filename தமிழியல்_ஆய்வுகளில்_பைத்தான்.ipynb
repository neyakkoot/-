{
  "cells": [
    {
      "cell_type": "markdown",
      "metadata": {
        "id": "view-in-github",
        "colab_type": "text"
      },
      "source": [
        "<a href=\"https://colab.research.google.com/github/neyakkoot/basic_python_learning/blob/main/%E0%AE%A4%E0%AE%AE%E0%AE%BF%E0%AE%B4%E0%AE%BF%E0%AE%AF%E0%AE%B2%E0%AF%8D_%E0%AE%86%E0%AE%AF%E0%AF%8D%E0%AE%B5%E0%AF%81%E0%AE%95%E0%AE%B3%E0%AE%BF%E0%AE%B2%E0%AF%8D_%E0%AE%AA%E0%AF%88%E0%AE%A4%E0%AF%8D%E0%AE%A4%E0%AE%BE%E0%AE%A9%E0%AF%8D.ipynb\" target=\"_parent\"><img src=\"https://colab.research.google.com/assets/colab-badge.svg\" alt=\"Open In Colab\"/></a>"
      ]
    },
    {
      "cell_type": "markdown",
      "metadata": {
        "id": "c-8-iih48nn6"
      },
      "source": [
        "தமிழிலக்கியங்களில் பைத்தான் பயன்பாடு :  ஆசிரியர் திறன் மேம்பாட்டுப் பயிற்சி\n",
        "\n",
        "13.06.2023 முதல் 17.06.2023 வரை"
      ]
    },
    {
      "cell_type": "markdown",
      "metadata": {
        "id": "BxjlVdXF9N_Q"
      },
      "source": [
        "13.06.2023 - பைத்தான் அறிமுகமும் Print எழுதும்முறையும்\n",
        "\n",
        "\n",
        "1. Introduction \n",
        "\n",
        "  a. Features \n",
        "\n",
        "  b. history \n",
        "\n",
        "  c. Where it is used? \n",
        "\n",
        "  d. Popular frameworks and libraries \n",
        "\n",
        "  e. Java vs python \n",
        "\n",
        "2. Why? \n",
        "\n",
        "3. Installation \n",
        "\n",
        "  a. Installation of python \n",
        "\n",
        "  b. Installation of pycharm \n",
        "\n",
        "4. Execute small program \n",
        "\n",
        "  a. Using idle \n",
        "\n",
        "  b. Using pycharm\n",
        "\n",
        "  c. Using Linux\n",
        "\n",
        "  d. Using Terminal\n",
        "\n",
        "  e. Using Online Compiler - Colab\n",
        "\n",
        "https://www.w3schools.com/python/"
      ]
    },
    {
      "cell_type": "markdown",
      "source": [
        "1. Introduction \n",
        "\n",
        "Python is an interpreted, object-oriented, high-level programming language that can be used for a wide variety of applications.\n",
        "\n",
        "Python is a powerful general-purpose programming language.\n",
        "\n",
        "First developed in the late 1980s by Guido van Rossum.\n",
        "\n",
        "Python is open source programming language.\n",
        "\n",
        "Guido van Rossum named it after the BBC Comedy TV series Monty Python’s Flying Circus\n",
        "\n",
        "\n",
        "Interpreted:\n",
        "\n",
        "ΑΡΙ - Java / Python\n",
        "\n",
        "Web Application - Java /PHP-Wordpress\n",
        "\n",
        "Mobile Application - Java / Objective C\n",
        "\n",
        "AI/ML/DS-\n",
        "\n",
        "Python/\n",
        "\n",
        "Java\n",
        "\n",
        "/Scala\n",
        "\n",
        "Ruby\n",
        "\n",
        "GP\n",
        "\n",
        "Interpreted:\n",
        "\n",
        "Line by line translation:\n",
        "\n",
        "python code --> 0,1s--> Interpreter/Compiler\n",
        "\n",
        "Compiler-Translate -\n",
        "\n",
        "Interpreter-Line By Line Translation"
      ],
      "metadata": {
        "id": "zjSG85__oN7L"
      }
    },
    {
      "cell_type": "markdown",
      "source": [
        "Advantages of Python \n",
        "\n",
        "ProgrammingPython is easy to learn and use.\n",
        "\n",
        "Large number of libraries available that can be used in your projects today.\n",
        "\n",
        "High Level Programming Language.\n",
        "\n",
        "Huge CommunityObject-oriented languagePortable across Operating systems"
      ],
      "metadata": {
        "id": "gRYse_HzomFh"
      }
    },
    {
      "cell_type": "markdown",
      "source": [
        "Organizations using Python\n",
        "\n",
        "Google\n",
        "\n",
        "microsoft\n",
        "\n",
        "facebook\n",
        "\n",
        "mozilla\n",
        "\n",
        "cisco\n",
        "\n",
        "Quora\n",
        "\n",
        "YouTube \n",
        "\n",
        "etc..."
      ],
      "metadata": {
        "id": "pf82p1tapET3"
      }
    },
    {
      "cell_type": "markdown",
      "source": [
        "Python Based Jobs\n",
        "\n",
        "Data Analysis\n",
        "\n",
        "Artificial Intelligence\n",
        "\n",
        "Automation\n",
        "\n",
        "Web Application\n",
        "\n",
        "Desktop Application\n",
        "\n",
        "Hacking\n",
        "\n",
        "School Students"
      ],
      "metadata": {
        "id": "yRew5dmppX3b"
      }
    },
    {
      "cell_type": "markdown",
      "source": [
        "Python Vs. Java\n",
        "\n",
        "Features | Python | Java\n",
        "\n",
        "Typed | Statically Typing | Dynamic Typing\n",
        "\n",
        "Whitespace | Supported | Not supported\n",
        "\n",
        "Ease of use | Shorter codes | Longer codes\n",
        "\n",
        "Performance | Slower than Java | Faster than python\n",
        "\n",
        "Community Support | Largest | Large\n",
        "\n",
        "Use Case | High use cases | High use cases   \n",
        "\n",
        "Salary | $114,490 P.A. | $114,212 P.A.\n",
        "\n",
        "Speed | Slower than Java | Faster than Python\n",
        "\n",
        "Machine learning | Used by 57% data scientists | Used by 33% data scientists"
      ],
      "metadata": {
        "id": "z8Kxgwk850NG"
      }
    },
    {
      "cell_type": "code",
      "execution_count": null,
      "metadata": {
        "colab": {
          "base_uri": "https://localhost:8080/"
        },
        "id": "-dN7tfuF9Bap",
        "outputId": "8cb5572c-c71e-43c9-c46f-2de9949d2f21"
      },
      "outputs": [
        {
          "name": "stdout",
          "output_type": "stream",
          "text": [
            "வணக்கம் தொல்காப்பியரே\n"
          ]
        }
      ],
      "source": [
        "print (\"வணக்கம் தொல்காப்பியரே\")"
      ]
    },
    {
      "cell_type": "code",
      "execution_count": null,
      "metadata": {
        "colab": {
          "base_uri": "https://localhost:8080/"
        },
        "id": "KgcLNVtv_hgI",
        "outputId": "dbfb631e-8ddb-45a1-e49c-f38aec1917c7"
      },
      "outputs": [
        {
          "name": "stdout",
          "output_type": "stream",
          "text": [
            "3\n"
          ]
        }
      ],
      "source": [
        "print (1+2)"
      ]
    },
    {
      "cell_type": "code",
      "execution_count": null,
      "metadata": {
        "colab": {
          "base_uri": "https://localhost:8080/",
          "height": 235
        },
        "id": "p0DeA_kx_s2A",
        "outputId": "9ccb4950-beaf-48b8-f65e-2177644d18ab"
      },
      "outputs": [
        {
          "ename": "NameError",
          "evalue": "ignored",
          "output_type": "error",
          "traceback": [
            "\u001b[0;31m---------------------------------------------------------------------------\u001b[0m",
            "\u001b[0;31mNameError\u001b[0m                                 Traceback (most recent call last)",
            "\u001b[0;32m<ipython-input-3-e3312b698f8d>\u001b[0m in \u001b[0;36m<cell line: 1>\u001b[0;34m()\u001b[0m\n\u001b[0;32m----> 1\u001b[0;31m \u001b[0mprint\u001b[0m \u001b[0;34m(\u001b[0m\u001b[0mத\u001b[0m\u001b[0;31mொ\u001b[0m\u001b[0mல\u001b[0m\u001b[0;31m்\u001b[0m\u001b[0;34m+\u001b[0m\u001b[0mக\u001b[0m\u001b[0;31mா\u001b[0m\u001b[0mப\u001b[0m\u001b[0;31m்\u001b[0m\u001b[0mப\u001b[0m\u001b[0;31mி\u001b[0m\u001b[0mயம\u001b[0m\u001b[0;31m்\u001b[0m\u001b[0;34m)\u001b[0m\u001b[0;34m\u001b[0m\u001b[0;34m\u001b[0m\u001b[0m\n\u001b[0m",
            "\u001b[0;31mNameError\u001b[0m: name 'தொல்' is not defined"
          ]
        }
      ],
      "source": [
        "print (தொல்+காப்பியம்)"
      ]
    },
    {
      "cell_type": "code",
      "execution_count": null,
      "metadata": {
        "colab": {
          "base_uri": "https://localhost:8080/"
        },
        "id": "1gcEtjjL__-f",
        "outputId": "50140def-40fe-4461-9ddd-825625e8d8d3"
      },
      "outputs": [
        {
          "name": "stdout",
          "output_type": "stream",
          "text": [
            "தொல்காப்பியம்\n"
          ]
        }
      ],
      "source": [
        "print (\"தொல்\"+\"காப்பியம்\")"
      ]
    },
    {
      "cell_type": "code",
      "execution_count": null,
      "metadata": {
        "colab": {
          "base_uri": "https://localhost:8080/"
        },
        "id": "WvHLXgybCdrF",
        "outputId": "3d3b7aaf-f0b1-4ff6-e497-948e490fc78b"
      },
      "outputs": [
        {
          "name": "stdout",
          "output_type": "stream",
          "text": [
            "<class 'str'>\n"
          ]
        }
      ],
      "source": [
        "print (type(\"தொல்\"+\"காப்பியம்\"))"
      ]
    },
    {
      "cell_type": "code",
      "execution_count": null,
      "metadata": {
        "colab": {
          "base_uri": "https://localhost:8080/"
        },
        "id": "zHsAY1wvCr1n",
        "outputId": "13680b07-4e18-40b1-8f72-9c9cb611f5a7"
      },
      "outputs": [
        {
          "name": "stdout",
          "output_type": "stream",
          "text": [
            "<class 'int'>\n"
          ]
        }
      ],
      "source": [
        "print (type(1+2))"
      ]
    },
    {
      "cell_type": "code",
      "execution_count": null,
      "metadata": {
        "colab": {
          "base_uri": "https://localhost:8080/"
        },
        "id": "zUUrv-uuDCz6",
        "outputId": "bc4e45ab-3cd6-440a-ad09-9ae6949bd1e8"
      },
      "outputs": [
        {
          "name": "stdout",
          "output_type": "stream",
          "text": [
            "<class 'float'>\n"
          ]
        }
      ],
      "source": [
        "print (type(1.0))"
      ]
    },
    {
      "cell_type": "markdown",
      "metadata": {
        "id": "1SmA4YVZ9iMB"
      },
      "source": [
        "14.06.2023 - Data Types & Variables\n",
        "\n",
        "Data Types\n",
        "\n",
        "Text Type: str, Numeric \n",
        "\n",
        "Types: int, float, complex\n",
        "\n",
        "Sequence Types: list, tuple, range\n",
        "\n",
        "Mapping Type: dict\n",
        "\n",
        "Set Types: set, frozenset\n",
        "\n",
        "Boolean Type: bool (True, False)\n",
        "\n",
        "Binary Types: bytes, bytearray, memoryview\n",
        "\n",
        "None Type: NoneType"
      ]
    },
    {
      "cell_type": "code",
      "execution_count": 6,
      "metadata": {
        "id": "4Xmk1Mh69sQ1",
        "colab": {
          "base_uri": "https://localhost:8080/",
          "height": 166
        },
        "outputId": "147491fa-a314-44e4-82fa-7734f5aa5121"
      },
      "outputs": [
        {
          "output_type": "error",
          "ename": "SyntaxError",
          "evalue": "ignored",
          "traceback": [
            "\u001b[0;36m  File \u001b[0;32m\"<ipython-input-6-1f088ca7e8e0>\"\u001b[0;36m, line \u001b[0;32m1\u001b[0m\n\u001b[0;31m    print (\"தொல்காப்பியம்)\u001b[0m\n\u001b[0m           ^\u001b[0m\n\u001b[0;31mSyntaxError\u001b[0m\u001b[0;31m:\u001b[0m unterminated string literal (detected at line 1)\n"
          ]
        }
      ],
      "source": [
        "print (\"தொல்காப்பியம்)"
      ]
    },
    {
      "cell_type": "code",
      "source": [
        "print (\"தொல்காப்பியம்\")"
      ],
      "metadata": {
        "colab": {
          "base_uri": "https://localhost:8080/"
        },
        "id": "u359o4n_FbX8",
        "outputId": "bb43885a-fc07-494d-c469-89af49136088"
      },
      "execution_count": 7,
      "outputs": [
        {
          "output_type": "stream",
          "name": "stdout",
          "text": [
            "தொல்காப்பியம்\n"
          ]
        }
      ]
    },
    {
      "cell_type": "code",
      "source": [
        "print (type(\"தொல்காப்பியம்\"))"
      ],
      "metadata": {
        "colab": {
          "base_uri": "https://localhost:8080/"
        },
        "id": "AFepunicFjdP",
        "outputId": "ff4cd34f-8b78-44c1-dd62-18f6e3c3bb99"
      },
      "execution_count": 8,
      "outputs": [
        {
          "output_type": "stream",
          "name": "stdout",
          "text": [
            "<class 'str'>\n"
          ]
        }
      ]
    },
    {
      "cell_type": "code",
      "source": [
        "print (type(\"தொல்காப்பியம்\"))\n",
        "\n",
        "print (type(27))\n",
        "\n",
        "print (type(2.7))\n",
        "\n",
        "print (type(1+3j))\n",
        "\n",
        "print (type(\"3\"))"
      ],
      "metadata": {
        "colab": {
          "base_uri": "https://localhost:8080/"
        },
        "id": "dlm-kwRadpZl",
        "outputId": "5e463020-c0b6-4454-b4da-62cf132276f7"
      },
      "execution_count": 5,
      "outputs": [
        {
          "output_type": "stream",
          "name": "stdout",
          "text": [
            "<class 'str'>\n",
            "<class 'int'>\n",
            "<class 'float'>\n",
            "<class 'complex'>\n",
            "<class 'str'>\n"
          ]
        }
      ]
    },
    {
      "cell_type": "markdown",
      "metadata": {
        "id": "5HULSSN7v8bT"
      },
      "source": [
        "Variables\n",
        "\n",
        "\n",
        "Variables are containers for storing data values.\n",
        "\n",
        "Creating Variables\n",
        "\n",
        "Python has no command for declaring a variable.\n",
        "\n",
        "A variable is created the moment you first assign a value to it.\n",
        "\n",
        "Example\n",
        "\n",
        "x = 5\n",
        "\n",
        "y = \"John\"\n",
        "\n",
        "print(x)\n",
        "\n",
        "print(y)"
      ]
    },
    {
      "cell_type": "code",
      "execution_count": 2,
      "metadata": {
        "id": "g5kH20RowrNO",
        "colab": {
          "base_uri": "https://localhost:8080/"
        },
        "outputId": "72fb8d8d-fdc6-4251-bb14-41405f033b70"
      },
      "outputs": [
        {
          "output_type": "stream",
          "name": "stdout",
          "text": [
            "['எழுத்ததிகாரம்', 'சொல்லதிகாரம்', 'பொருளதிகாரம்']\n"
          ]
        }
      ],
      "source": [
        "தொல்காப்பியம் = [\"எழுத்ததிகாரம்\",\"சொல்லதிகாரம்\",\"பொருளதிகாரம்\"]\n",
        "print (தொல்காப்பியம்)"
      ]
    },
    {
      "cell_type": "code",
      "source": [
        "\n",
        "x = 5\n",
        "y = \"John\"\n",
        "print(x)\n",
        "print(y)"
      ],
      "metadata": {
        "colab": {
          "base_uri": "https://localhost:8080/"
        },
        "id": "0ypvhFs0EJ8H",
        "outputId": "3f29defc-d2fd-4310-e369-59063e109b4c"
      },
      "execution_count": 3,
      "outputs": [
        {
          "output_type": "stream",
          "name": "stdout",
          "text": [
            "5\n",
            "John\n"
          ]
        }
      ]
    },
    {
      "cell_type": "code",
      "source": [
        "\n",
        "வினா = \"தொல்காப்பியத்தில் எத்தனை அதிகாரங்கள் உள்ளன?\"\n",
        "விடை = \"மூன்று\", 3\n",
        "print(வினா)\n",
        "print(விடை)"
      ],
      "metadata": {
        "colab": {
          "base_uri": "https://localhost:8080/"
        },
        "id": "FO9uVblGENfR",
        "outputId": "9e2c9ec6-29f3-48dc-8e1c-a2a0872f942b"
      },
      "execution_count": 4,
      "outputs": [
        {
          "output_type": "stream",
          "name": "stdout",
          "text": [
            "தொல்காப்பியத்தில் எத்தனை அதிகாரங்கள் உள்ளன?\n",
            "('மூன்று', 3)\n"
          ]
        }
      ]
    },
    {
      "cell_type": "markdown",
      "metadata": {
        "id": "2DRjKwfh9tWk"
      },
      "source": [
        "15.06.2023 - Functions\n",
        "\n",
        "A function is a block of code which only runs when it is called.\n",
        "\n",
        "You can pass data, known as parameters, into a function.\n",
        "\n",
        "A function can return data as a result.\n",
        "\n",
        "Creating a Function\n",
        "\n",
        "In Python a function is defined using the def keyword:\n",
        "\n",
        "Example\n",
        "\n",
        "def my_function():\n",
        "\n",
        "  print(\"Hello from a function\")\n",
        "\n",
        "Calling a Function\n",
        "\n",
        "To call a function, use the function name followed by parenthesis:\n",
        "\n",
        "Example\n",
        "\n",
        "def my_function():\n",
        "\n",
        "  print(\"Hello from a function\")\n",
        "\n",
        "my_function()"
      ]
    },
    {
      "cell_type": "code",
      "execution_count": null,
      "metadata": {
        "colab": {
          "base_uri": "https://localhost:8080/"
        },
        "id": "knwXPUA0-FJx",
        "outputId": "a811610e-2a75-43c3-8de5-677eaf8e538d"
      },
      "outputs": [
        {
          "name": "stdout",
          "output_type": "stream",
          "text": [
            "தொல்காப்பியத்தை எழுதியவர் தொல்காப்பியர்\n"
          ]
        }
      ],
      "source": [
        "\n",
        "def தொல்காப்பியம்():\n",
        "  print(\"தொல்காப்பியத்தை எழுதியவர் தொல்காப்பியர்\")\n",
        "\n",
        "தொல்காப்பியம்()"
      ]
    },
    {
      "cell_type": "markdown",
      "metadata": {
        "id": "EV1KlWPhyRNg"
      },
      "source": [
        "Arguments\n",
        "\n",
        "Information can be passed into functions as arguments.\n",
        "\n",
        "Arguments are specified after the function name, inside the parentheses. You can add as many arguments as you want, just separate them with a comma.\n",
        "\n",
        "The following example has a function with one argument (fname). When the function is called, we pass along a first name, which is used inside the function to print the full name:"
      ]
    },
    {
      "cell_type": "code",
      "execution_count": null,
      "metadata": {
        "colab": {
          "background_save": true,
          "base_uri": "https://localhost:8080/",
          "height": 148
        },
        "id": "vDAlE4CEyZQT",
        "outputId": "8e913093-10f4-4991-ac02-8cefefcca378"
      },
      "outputs": [
        {
          "name": "stdout",
          "output_type": "stream",
          "text": [
            "எழுத்ததிகாரம்மொத்த நூற்பாக்கள்\n",
            "சொல்லதிகாரம்மொத்த நூற்பாக்கள்\n",
            "பொருளதிகாரம்மொத்த நூற்பாக்கள்\n"
          ]
        }
      ],
      "source": [
        "\n",
        "def தொல்காப்பியம்(அதிகாரம்):\n",
        "  print(அதிகாரம் + \"மொத்த நூற்பாக்கள்\")\n",
        "\n",
        "தொல்காப்பியம்(\"எழுத்ததிகாரம்\")\n",
        "தொல்காப்பியம்(\"சொல்லதிகாரம்\")\n",
        "தொல்காப்பியம்(\"பொருளதிகாரம்\")"
      ]
    },
    {
      "cell_type": "markdown",
      "metadata": {
        "id": "awVuiqFN-FsC"
      },
      "source": [
        "16.06.2023 - தமிழ் ஆய்வுகளில் பைத்தான்"
      ]
    },
    {
      "cell_type": "code",
      "execution_count": null,
      "metadata": {
        "id": "c38yyqMe-Yqq",
        "colab": {
          "base_uri": "https://localhost:8080/"
        },
        "outputId": "6435ae98-0e69-40a3-bac8-4dc0f12d5adb"
      },
      "outputs": [
        {
          "output_type": "stream",
          "name": "stdout",
          "text": [
            "தமிழ் எழுத்துக்கள் எத்தனை வகைப்படும் என்று தொல்காப்பியர் குறிப்பிட்டுள்ளார்?\n",
            "விடையை எழுத்தில் மட்டும் தருக: இரண்டு\n",
            "True\n",
            "சரியான விடை = 1.முதன்மை எழுத்து, 2.சார்பெழுத்து\n",
            "அதற்குரிய தொல்காப்பிய நூற்பா இது -> எழுத்தெனப் படுப; அகரமுதல னகர இறுவாய்; முப்பஃ தென்ப; சார்ந்து வரல்மரபின் மூன்றலங் கடையே\n"
          ]
        }
      ],
      "source": [
        "\n",
        "விதி1 = \"தமிழ் எழுத்துக்கள் எத்தனை வகைப்படும் என்று தொல்காப்பியர் குறிப்பிட்டுள்ளார்?\"\n",
        "print(விதி1)\n",
        "விடை = \"இரண்டு\"\n",
        "உள்ளீடு = input(\"விடையை எழுத்தில் மட்டும் தருக: \")\n",
        "if உள்ளீடு in விடை == \"இரண்டு\":\n",
        "  print (True)\n",
        "else:\n",
        "  print (False)\n",
        "\n",
        "print (\"சரியான விடை = 1.முதன்மை எழுத்து, 2.சார்பெழுத்து\")\n",
        "print (\"அதற்குரிய தொல்காப்பிய நூற்பா இது -> எழுத்தெனப் படுப; அகரமுதல னகர இறுவாய்; முப்பஃ தென்ப; சார்ந்து வரல்மரபின் மூன்றலங் கடையே\")"
      ]
    },
    {
      "cell_type": "code",
      "source": [],
      "metadata": {
        "id": "eSWzBkpQqs2E"
      },
      "execution_count": null,
      "outputs": []
    },
    {
      "cell_type": "markdown",
      "metadata": {
        "id": "M7AQgR0s-cPh"
      },
      "source": [
        "\n",
        "17.06.2023 _ ஆய்வு\n",
        "\n",
        "1. தொல்காப்பிய மெய்ம்மயக்கம்\n",
        "\n",
        "2. விக்கிமூலம் நுட்பக் கருவிகள்\n",
        "\n",
        "3. பிற ஆய்வுக் கருவிகள்"
      ]
    },
    {
      "cell_type": "code",
      "source": [
        "# import random and time module\n",
        "import random\n",
        "import time\n",
        "# create a random number from range between 1-100\n",
        "n = random.randrange(1,100)\n",
        "# write a welcome message\n",
        "print(\"welcome to the NUMBER GUESSING GAME\")\n",
        "# give 2 sec. delay\n",
        "time.sleep(2)\n",
        "# take a user input to enter a number\n",
        "guess = int(input(\"Guess a number : \"))\n",
        "# use while loop and create a condition which execute while loop till the both number not become equal\n",
        "                                                          #if n is not equal to the input guess  \n",
        "while n != guess:\n",
        "    # if guess is smaller than n\n",
        "    if guess < n:\n",
        "        print(\"Too low\")\n",
        "        guess = int(input(\"Guess Again : \"))\n",
        "# if guess is greater than n\n",
        "    elif guess > n:\n",
        "        print(\"Too High\")\n",
        "        guess = int(input(\"Guess Again : \"))\n",
        "    else:\n",
        "        break\n",
        "        # if guess gets equals to n terminate the while loop\n",
        "print(\" *** You guessed it Right *** \")\n",
        "# final message"
      ],
      "metadata": {
        "colab": {
          "base_uri": "https://localhost:8080/"
        },
        "id": "fNgtKFAwl1qy",
        "outputId": "a816862a-fbb7-43ea-9d3a-350a085e084f"
      },
      "execution_count": null,
      "outputs": [
        {
          "output_type": "stream",
          "name": "stdout",
          "text": [
            "welcome to the NUMBER GUESSING GAME\n",
            "Guess a number : 30\n",
            "Too low\n",
            "Guess Again : 25\n",
            "Too low\n",
            "Guess Again : 50\n",
            "Too low\n",
            "Guess Again : 75\n",
            "Too High\n",
            "Guess Again : 60\n",
            "Too low\n",
            "Guess Again : 55\n",
            "Too low\n",
            "Guess Again : 62\n",
            "Too low\n",
            "Guess Again : 65\n",
            "Too low\n",
            "Guess Again : 67\n",
            "Too low\n",
            "Guess Again : 68\n",
            "Too low\n",
            "Guess Again : 69\n",
            "Too low\n",
            "Guess Again : 70\n",
            " *** You guessed it Right *** \n"
          ]
        }
      ]
    },
    {
      "cell_type": "code",
      "execution_count": null,
      "metadata": {
        "id": "RajSI-hm-kB8",
        "colab": {
          "base_uri": "https://localhost:8080/",
          "height": 1000
        },
        "outputId": "578babc7-ca39-4df1-c74b-05bce38f3973"
      },
      "outputs": [
        {
          "name": "stdout",
          "output_type": "stream",
          "text": [
            "எண் ஊக விளையாட்டிற்கு வரவேற்கிறோம்\n",
            "ஊகிக்கும் எண் தருக : 50\n",
            "மிக அதிகம்\n",
            "மறுபடியும் மீண்டும் ஊகிக்கும் எண் தருக : : 45\n",
            "மிக அதிகம்\n",
            "மறுபடியும் மீண்டும் ஊகிக்கும் எண் தருக : : 40\n",
            "மிக அதிகம்\n",
            "மறுபடியும் மீண்டும் ஊகிக்கும் எண் தருக : : 35\n",
            "மிக அதிகம்\n",
            "மறுபடியும் மீண்டும் ஊகிக்கும் எண் தருக : : 30\n",
            "மிக அதிகம்\n",
            "மறுபடியும் மீண்டும் ஊகிக்கும் எண் தருக : : 25\n",
            "மிக அதிகம்\n",
            "மறுபடியும் மீண்டும் ஊகிக்கும் எண் தருக : : 20\n",
            "மிக அதிகம்\n",
            "மறுபடியும் மீண்டும் ஊகிக்கும் எண் தருக : : 15\n",
            "மிக அதிகம்\n",
            "மறுபடியும் மீண்டும் ஊகிக்கும் எண் தருக : : 10\n",
            "மிக அதிகம்\n",
            "மறுபடியும் மீண்டும் ஊகிக்கும் எண் தருக : : 8\n",
            "மிக அதிகம்\n",
            "மறுபடியும் மீண்டும் ஊகிக்கும் எண் தருக : : 5\n",
            "மிக அதிகம்\n",
            "மறுபடியும் மீண்டும் ஊகிக்கும் எண் தருக : : 3\n",
            "மிக அதிகம்\n",
            "மறுபடியும் மீண்டும் ஊகிக்கும் எண் தருக : : 2\n",
            "மிக அதிகம்\n",
            "மறுபடியும் மீண்டும் ஊகிக்கும் எண் தருக : : 1\n",
            "மிக அதிகம்\n",
            "மறுபடியும் மீண்டும் ஊகிக்கும் எண் தருக : : 0\n",
            "மிக அதிகம்\n",
            "மறுபடியும் மீண்டும் ஊகிக்கும் எண் தருக : : 100\n",
            "மிக அதிகம்\n",
            "மறுபடியும் மீண்டும் ஊகிக்கும் எண் தருக : : 70\n",
            "மிக அதிகம்\n",
            "மறுபடியும் மீண்டும் ஊகிக்கும் எண் தருக : : 65\n",
            "மிக அதிகம்\n",
            "மறுபடியும் மீண்டும் ஊகிக்கும் எண் தருக : : 60\n",
            "மிக அதிகம்\n",
            "மறுபடியும் மீண்டும் ஊகிக்கும் எண் தருக : : 90\n",
            "மிக அதிகம்\n",
            "மறுபடியும் மீண்டும் ஊகிக்கும் எண் தருக : : 70\n",
            "மிக அதிகம்\n",
            "மறுபடியும் மீண்டும் ஊகிக்கும் எண் தருக : : 70\n",
            "மிக அதிகம்\n",
            "மறுபடியும் மீண்டும் ஊகிக்கும் எண் தருக : : 60\n",
            "மிக அதிகம்\n",
            "மறுபடியும் மீண்டும் ஊகிக்கும் எண் தருக : : 40\n",
            "மிக அதிகம்\n",
            "மறுபடியும் மீண்டும் ஊகிக்கும் எண் தருக : : 50\n",
            "மிக அதிகம்\n",
            "மறுபடியும் மீண்டும் ஊகிக்கும் எண் தருக : : 40\n",
            "மிக அதிகம்\n",
            "மறுபடியும் மீண்டும் ஊகிக்கும் எண் தருக : : 05\n",
            "மிக அதிகம்\n",
            "மறுபடியும் மீண்டும் ஊகிக்கும் எண் தருக : : 20\n",
            "மிக அதிகம்\n",
            "மறுபடியும் மீண்டும் ஊகிக்கும் எண் தருக : : 40\n",
            "மிக அதிகம்\n",
            "மறுபடியும் மீண்டும் ஊகிக்கும் எண் தருக : : 0.5\n"
          ]
        },
        {
          "output_type": "error",
          "ename": "ValueError",
          "evalue": "ignored",
          "traceback": [
            "\u001b[0;31m---------------------------------------------------------------------------\u001b[0m",
            "\u001b[0;31mValueError\u001b[0m                                Traceback (most recent call last)",
            "\u001b[0;32m<ipython-input-2-36af7ca435af>\u001b[0m in \u001b[0;36m<cell line: 20>\u001b[0;34m()\u001b[0m\n\u001b[1;32m     27\u001b[0m     \u001b[0;32melif\u001b[0m \u001b[0mஊகம\u001b[0m\u001b[0;31m்\u001b[0m \u001b[0;34m>\u001b[0m \u001b[0mn\u001b[0m\u001b[0;34m:\u001b[0m\u001b[0;34m\u001b[0m\u001b[0;34m\u001b[0m\u001b[0m\n\u001b[1;32m     28\u001b[0m         \u001b[0mprint\u001b[0m\u001b[0;34m(\u001b[0m\u001b[0;34m\"மிக அதிகம்\"\u001b[0m\u001b[0;34m)\u001b[0m\u001b[0;34m\u001b[0m\u001b[0;34m\u001b[0m\u001b[0m\n\u001b[0;32m---> 29\u001b[0;31m         \u001b[0mguess\u001b[0m \u001b[0;34m=\u001b[0m \u001b[0mint\u001b[0m\u001b[0;34m(\u001b[0m\u001b[0minput\u001b[0m\u001b[0;34m(\u001b[0m\u001b[0;34m\"மறுபடியும் மீண்டும் ஊகிக்கும் எண் தருக : : \"\u001b[0m\u001b[0;34m)\u001b[0m\u001b[0;34m)\u001b[0m\u001b[0;34m\u001b[0m\u001b[0;34m\u001b[0m\u001b[0m\n\u001b[0m\u001b[1;32m     30\u001b[0m     \u001b[0;32melse\u001b[0m\u001b[0;34m:\u001b[0m\u001b[0;34m\u001b[0m\u001b[0;34m\u001b[0m\u001b[0m\n\u001b[1;32m     31\u001b[0m         \u001b[0;32mbreak\u001b[0m\u001b[0;34m\u001b[0m\u001b[0;34m\u001b[0m\u001b[0m\n",
            "\u001b[0;31mValueError\u001b[0m: invalid literal for int() with base 10: '0.5'"
          ]
        }
      ],
      "source": [
        "\n",
        "# எண் ஊக விளையாட்டு\n",
        "# import random and time module\n",
        "import random\n",
        "import time\n",
        "\n",
        "# create a random number from range between 1-100\n",
        "n = random.randrange(1,100)\n",
        "\n",
        "# write a welcome message\n",
        "print(\"எண் ஊக விளையாட்டிற்கு வரவேற்கிறோம்\")\n",
        "\n",
        "# give 2 sec. delay\n",
        "time.sleep(1)\n",
        "\n",
        "# take a user input to enter a number\n",
        "ஊகம் = int(input(\"ஊகிக்கும் எண் தருக : \"))\n",
        "\n",
        "# use while loop and create a condition which execute while loop till the both number not become equal\n",
        "                                                          #if n is not equal to the input guess  \n",
        "while n != ஊகம்:\n",
        "    # if guess is smaller than n\n",
        "    if ஊகம் < n:\n",
        "        print(\"மிகக் குறைவு\")\n",
        "        ஊகம் = int(input(\"மீண்டும் ஊகிக்கும் எண் தருக : \"))\n",
        "\n",
        "# if guess is greater than n\n",
        "    elif ஊகம் > n:\n",
        "        print(\"மிக அதிகம்\")\n",
        "        guess = int(input(\"மறுபடியும் மீண்டும் ஊகிக்கும் எண் தருக : : \"))\n",
        "    else:\n",
        "        break\n",
        "\n",
        "        # if guess gets equals to n terminate the while loop\n",
        "print(\" *** நீங்கள் ஊகித்த எண் சரிதான் *** \")\n",
        "\n",
        "# final message"
      ]
    },
    {
      "cell_type": "code",
      "source": [],
      "metadata": {
        "id": "2VmXh9WSTkVh"
      },
      "execution_count": null,
      "outputs": []
    },
    {
      "cell_type": "markdown",
      "source": [
        "பரிந்துரைக்கும் இணையப் பாடங்கள்\n",
        "\n",
        "\n",
        "1. https://www.javatpoint.com/python-program-for-word-guessing-game\n",
        "\n",
        "2. https://www.w3schools.com/python/\n",
        "\n",
        "3. https://youtu.be/mhdExzt7AnU மூன்று மணி நேரம்\n",
        "\n",
        "4. https://youtu.be/Yp_tqu22zIU  பத்து மணி நேரம்\n",
        "\n",
        "5. https://youtu.be/Nkg6iC3Ro9g பனிரெண்டு மணி நேரம்\n",
        "\n",
        "6. https://www.geeksforgeeks.org/python-program-for-word-guessing-game/\n",
        "\n",
        "7. https://www.tutorjoes.in/python_programming_tutorial/"
      ],
      "metadata": {
        "id": "4W7Gw-xioa9L"
      }
    }
  ],
  "metadata": {
    "colab": {
      "provenance": [],
      "authorship_tag": "ABX9TyOf+7fGyZKnSQiBngtvxiaL",
      "include_colab_link": true
    },
    "kernelspec": {
      "display_name": "Python 3",
      "name": "python3"
    },
    "language_info": {
      "name": "python"
    }
  },
  "nbformat": 4,
  "nbformat_minor": 0
}