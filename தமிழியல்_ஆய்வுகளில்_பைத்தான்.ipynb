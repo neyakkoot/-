{
  "nbformat": 4,
  "nbformat_minor": 0,
  "metadata": {
    "colab": {
      "provenance": [],
      "authorship_tag": "ABX9TyPGBGkB6THtveX+JoIiyzNO",
      "include_colab_link": true
    },
    "kernelspec": {
      "name": "python3",
      "display_name": "Python 3"
    },
    "language_info": {
      "name": "python"
    }
  },
  "cells": [
    {
      "cell_type": "markdown",
      "metadata": {
        "id": "view-in-github",
        "colab_type": "text"
      },
      "source": [
        "<a href=\"https://colab.research.google.com/github/neyakkoot/basic_python_learning/blob/main/%E0%AE%A4%E0%AE%AE%E0%AE%BF%E0%AE%B4%E0%AE%BF%E0%AE%AF%E0%AE%B2%E0%AF%8D_%E0%AE%86%E0%AE%AF%E0%AF%8D%E0%AE%B5%E0%AF%81%E0%AE%95%E0%AE%B3%E0%AE%BF%E0%AE%B2%E0%AF%8D_%E0%AE%AA%E0%AF%88%E0%AE%A4%E0%AF%8D%E0%AE%A4%E0%AE%BE%E0%AE%A9%E0%AF%8D.ipynb\" target=\"_parent\"><img src=\"https://colab.research.google.com/assets/colab-badge.svg\" alt=\"Open In Colab\"/></a>"
      ]
    },
    {
      "cell_type": "markdown",
      "source": [
        "தமிழிலக்கியங்களில் பைத்தான் பயன்பாடு :  ஆசிரியர் திறன் மேம்பாட்டுப் பயிற்சி\n",
        "\n",
        "13.06.2023 முதல் 17.06.2023 வரை"
      ],
      "metadata": {
        "id": "c-8-iih48nn6"
      }
    },
    {
      "cell_type": "markdown",
      "source": [
        "13.06.2023 - பைத்தான் அறிமுகமும் Print எழுதும்முறையும்\n",
        "\n",
        "\n",
        "1. Introduction \n",
        "\n",
        "  a. Features \n",
        "\n",
        "  b. history \n",
        "\n",
        "  c. Where it is used? \n",
        "\n",
        "  d. Popular frameworks and libraries \n",
        "\n",
        "  e. Java vs python \n",
        "\n",
        "2. Why? \n",
        "\n",
        "3. Installation \n",
        "\n",
        "  a. Installation of python \n",
        "\n",
        "  b. Installation of pycharm \n",
        "\n",
        "4. Execute small program \n",
        "\n",
        "  a. Using idle \n",
        "\n",
        "  b. Using pycharm\n",
        "\n",
        "  c. Using Linux\n",
        "\n",
        "  d. Using Terminal\n",
        "\n",
        "  e. Using Online Compiler - Colab\n",
        "\n",
        "https://www.w3schools.com/python/"
      ],
      "metadata": {
        "id": "BxjlVdXF9N_Q"
      }
    },
    {
      "cell_type": "code",
      "source": [
        "print (\"வணக்கம் தொல்காப்பியரே\")"
      ],
      "metadata": {
        "colab": {
          "base_uri": "https://localhost:8080/"
        },
        "id": "-dN7tfuF9Bap",
        "outputId": "8cb5572c-c71e-43c9-c46f-2de9949d2f21"
      },
      "execution_count": null,
      "outputs": [
        {
          "output_type": "stream",
          "name": "stdout",
          "text": [
            "வணக்கம் தொல்காப்பியரே\n"
          ]
        }
      ]
    },
    {
      "cell_type": "code",
      "source": [
        "print (1+2)"
      ],
      "metadata": {
        "colab": {
          "base_uri": "https://localhost:8080/"
        },
        "id": "KgcLNVtv_hgI",
        "outputId": "dbfb631e-8ddb-45a1-e49c-f38aec1917c7"
      },
      "execution_count": null,
      "outputs": [
        {
          "output_type": "stream",
          "name": "stdout",
          "text": [
            "3\n"
          ]
        }
      ]
    },
    {
      "cell_type": "code",
      "source": [
        "print (தொல்+காப்பியம்)"
      ],
      "metadata": {
        "colab": {
          "base_uri": "https://localhost:8080/",
          "height": 235
        },
        "id": "p0DeA_kx_s2A",
        "outputId": "9ccb4950-beaf-48b8-f65e-2177644d18ab"
      },
      "execution_count": null,
      "outputs": [
        {
          "output_type": "error",
          "ename": "NameError",
          "evalue": "ignored",
          "traceback": [
            "\u001b[0;31m---------------------------------------------------------------------------\u001b[0m",
            "\u001b[0;31mNameError\u001b[0m                                 Traceback (most recent call last)",
            "\u001b[0;32m<ipython-input-3-e3312b698f8d>\u001b[0m in \u001b[0;36m<cell line: 1>\u001b[0;34m()\u001b[0m\n\u001b[0;32m----> 1\u001b[0;31m \u001b[0mprint\u001b[0m \u001b[0;34m(\u001b[0m\u001b[0mத\u001b[0m\u001b[0;31mொ\u001b[0m\u001b[0mல\u001b[0m\u001b[0;31m்\u001b[0m\u001b[0;34m+\u001b[0m\u001b[0mக\u001b[0m\u001b[0;31mா\u001b[0m\u001b[0mப\u001b[0m\u001b[0;31m்\u001b[0m\u001b[0mப\u001b[0m\u001b[0;31mி\u001b[0m\u001b[0mயம\u001b[0m\u001b[0;31m்\u001b[0m\u001b[0;34m)\u001b[0m\u001b[0;34m\u001b[0m\u001b[0;34m\u001b[0m\u001b[0m\n\u001b[0m",
            "\u001b[0;31mNameError\u001b[0m: name 'தொல்' is not defined"
          ]
        }
      ]
    },
    {
      "cell_type": "code",
      "source": [
        "print (\"தொல்\"+\"காப்பியம்\")"
      ],
      "metadata": {
        "colab": {
          "base_uri": "https://localhost:8080/"
        },
        "id": "1gcEtjjL__-f",
        "outputId": "50140def-40fe-4461-9ddd-825625e8d8d3"
      },
      "execution_count": null,
      "outputs": [
        {
          "output_type": "stream",
          "name": "stdout",
          "text": [
            "தொல்காப்பியம்\n"
          ]
        }
      ]
    },
    {
      "cell_type": "code",
      "source": [
        "print (type(\"தொல்\"+\"காப்பியம்\"))"
      ],
      "metadata": {
        "colab": {
          "base_uri": "https://localhost:8080/"
        },
        "id": "WvHLXgybCdrF",
        "outputId": "3d3b7aaf-f0b1-4ff6-e497-948e490fc78b"
      },
      "execution_count": null,
      "outputs": [
        {
          "output_type": "stream",
          "name": "stdout",
          "text": [
            "<class 'str'>\n"
          ]
        }
      ]
    },
    {
      "cell_type": "code",
      "source": [
        "print (type(1+2))"
      ],
      "metadata": {
        "colab": {
          "base_uri": "https://localhost:8080/"
        },
        "id": "zHsAY1wvCr1n",
        "outputId": "13680b07-4e18-40b1-8f72-9c9cb611f5a7"
      },
      "execution_count": null,
      "outputs": [
        {
          "output_type": "stream",
          "name": "stdout",
          "text": [
            "<class 'int'>\n"
          ]
        }
      ]
    },
    {
      "cell_type": "code",
      "source": [
        "print (type(1.0))"
      ],
      "metadata": {
        "colab": {
          "base_uri": "https://localhost:8080/"
        },
        "id": "zUUrv-uuDCz6",
        "outputId": "bc4e45ab-3cd6-440a-ad09-9ae6949bd1e8"
      },
      "execution_count": null,
      "outputs": [
        {
          "output_type": "stream",
          "name": "stdout",
          "text": [
            "<class 'float'>\n"
          ]
        }
      ]
    },
    {
      "cell_type": "markdown",
      "source": [
        "14.06.2023 - Data Types & Variables\n",
        "\n",
        "Data Types\n",
        "\n",
        "Text Type:strNumeric \n",
        "\n",
        "Types:int, float, complex\n",
        "\n",
        "Sequence Types:list, tuple, range\n",
        "\n",
        "Mapping Type:dict\n",
        "\n",
        "Set Types:set, frozenset\n",
        "\n",
        "Boolean Type:bool (True, False)\n",
        "\n",
        "Binary Types:bytes, bytearray, memoryview\n",
        "\n",
        "None Type:NoneType"
      ],
      "metadata": {
        "id": "1SmA4YVZ9iMB"
      }
    },
    {
      "cell_type": "code",
      "source": [],
      "metadata": {
        "id": "4Xmk1Mh69sQ1"
      },
      "execution_count": null,
      "outputs": []
    },
    {
      "cell_type": "markdown",
      "source": [
        "Variables\n",
        "\n",
        "\n",
        "Variables are containers for storing data values.\n",
        "\n",
        "Creating Variables\n",
        "\n",
        "Python has no command for declaring a variable.\n",
        "\n",
        "A variable is created the moment you first assign a value to it.\n",
        "\n",
        "Example\n",
        "\n",
        "x = 5\n",
        "\n",
        "y = \"John\"\n",
        "\n",
        "print(x)\n",
        "\n",
        "print(y)"
      ],
      "metadata": {
        "id": "5HULSSN7v8bT"
      }
    },
    {
      "cell_type": "code",
      "source": [],
      "metadata": {
        "id": "g5kH20RowrNO"
      },
      "execution_count": null,
      "outputs": []
    },
    {
      "cell_type": "markdown",
      "source": [
        "15.06.2023 - Functions\n",
        "\n",
        "A function is a block of code which only runs when it is called.\n",
        "\n",
        "You can pass data, known as parameters, into a function.\n",
        "\n",
        "A function can return data as a result.\n",
        "\n",
        "Creating a Function\n",
        "\n",
        "In Python a function is defined using the def keyword:\n",
        "\n",
        "Example\n",
        "\n",
        "def my_function():\n",
        "\n",
        "  print(\"Hello from a function\")\n",
        "\n",
        "Calling a Function\n",
        "\n",
        "To call a function, use the function name followed by parenthesis:\n",
        "\n",
        "Example\n",
        "\n",
        "def my_function():\n",
        "\n",
        "  print(\"Hello from a function\")\n",
        "\n",
        "my_function()"
      ],
      "metadata": {
        "id": "2DRjKwfh9tWk"
      }
    },
    {
      "cell_type": "code",
      "source": [
        "\n",
        "def தொல்காப்பியம்():\n",
        "  print(\"தொல்காப்பியத்தை எழுதியவர் தொல்காப்பியர்\")\n",
        "\n",
        "தொல்காப்பியம்()"
      ],
      "metadata": {
        "id": "knwXPUA0-FJx",
        "colab": {
          "base_uri": "https://localhost:8080/"
        },
        "outputId": "a811610e-2a75-43c3-8de5-677eaf8e538d"
      },
      "execution_count": 6,
      "outputs": [
        {
          "output_type": "stream",
          "name": "stdout",
          "text": [
            "தொல்காப்பியத்தை எழுதியவர் தொல்காப்பியர்\n"
          ]
        }
      ]
    },
    {
      "cell_type": "markdown",
      "source": [
        "Arguments\n",
        "\n",
        "Information can be passed into functions as arguments.\n",
        "\n",
        "Arguments are specified after the function name, inside the parentheses. You can add as many arguments as you want, just separate them with a comma.\n",
        "\n",
        "The following example has a function with one argument (fname). When the function is called, we pass along a first name, which is used inside the function to print the full name:"
      ],
      "metadata": {
        "id": "EV1KlWPhyRNg"
      }
    },
    {
      "cell_type": "code",
      "source": [
        "\n",
        "def தொல்காப்பியம்(அதிகாரம்):\n",
        "  print(அதிகாரம் + \"மொத்த நூற்பாக்கள்\")\n",
        "\n",
        "தொல்காப்பியம்(\"எழுத்ததிகாரம்\")\n",
        "தொல்காப்பியம்(\"சொல்லதிகாரம்\")\n",
        "தொல்காப்பியம்(\"பொருளதிகாரம்\")"
      ],
      "metadata": {
        "colab": {
          "base_uri": "https://localhost:8080/"
        },
        "id": "vDAlE4CEyZQT",
        "outputId": "3cc331aa-05a0-41c1-8923-991a3c7ffcb4"
      },
      "execution_count": 9,
      "outputs": [
        {
          "output_type": "stream",
          "name": "stdout",
          "text": [
            "எழுத்ததிகாரம்மொத்த நூற்பாக்கள்\n",
            "சொல்லதிகாரம்மொத்த நூற்பாக்கள்\n",
            "பொருளதிகாரம்மொத்த நூற்பாக்கள்\n"
          ]
        }
      ]
    },
    {
      "cell_type": "markdown",
      "source": [
        "16.06.2023 - தமிழ் ஆய்வுகளில் பைத்தான்"
      ],
      "metadata": {
        "id": "awVuiqFN-FsC"
      }
    },
    {
      "cell_type": "code",
      "source": [],
      "metadata": {
        "id": "c38yyqMe-Yqq"
      },
      "execution_count": null,
      "outputs": []
    },
    {
      "cell_type": "markdown",
      "source": [
        "17.06.2023 _ ஆய்வு"
      ],
      "metadata": {
        "id": "M7AQgR0s-cPh"
      }
    },
    {
      "cell_type": "code",
      "source": [],
      "metadata": {
        "id": "RajSI-hm-kB8"
      },
      "execution_count": null,
      "outputs": []
    }
  ]
}